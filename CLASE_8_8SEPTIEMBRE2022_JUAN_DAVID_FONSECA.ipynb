{
  "nbformat": 4,
  "nbformat_minor": 0,
  "metadata": {
    "colab": {
      "provenance": [],
      "collapsed_sections": []
    },
    "kernelspec": {
      "name": "python3",
      "display_name": "Python 3"
    },
    "language_info": {
      "name": "python"
    }
  },
  "cells": [
    {
      "cell_type": "markdown",
      "source": [
        "<center>\n",
        "\n",
        "\n",
        "#**COLEGIO SIGLO - EL SOCORRO**\n",
        "#**PRESENTADO A: ING PAOLA ANDREA QUINTERO**\n",
        "#**PRESENTADO POR:JUAN DAVID FONSECA**\n",
        "#**GRADO DÉCIMO**\n",
        "#**8 SEPTIEMBRE 2022**"
      ],
      "metadata": {
        "id": "lCDlYw8IrRos"
      }
    },
    {
      "cell_type": "markdown",
      "source": [
        "#**¿QUE ES PYTHON?**\n",
        "# Python es un lenguaje de alto nivel de programación interpretado cuya filosofía hace hincapié en la legibilidad de su código, se utiliza para desarrollar aplicaciones de todo tipo, ejemplos: Instagram, Netflix, Spotify, Panda 3D, entre otros\n",
        "\n",
        "#**LANZAMIENTO:** 1991\n",
        "#**CREADO POR:** Guido van Rossum\n",
        "#**RECUPERADO DE:**https://www.redalyc.org/pdf/1815/181531232001.pdf\n",
        "\n",
        "\n",
        "\n",
        "\n",
        "\n",
        "\n",
        "\n",
        "\n",
        "\n"
      ],
      "metadata": {
        "id": "uhmXKhu00pIz"
      }
    },
    {
      "cell_type": "code",
      "source": [
        "print(\"esto es una suma\")\n",
        "numero_uno=3.14159265\n",
        "numero_dos=3.14159265\n",
        "resultado = numero_uno + numero_dos\n",
        "print(resultado)"
      ],
      "metadata": {
        "colab": {
          "base_uri": "https://localhost:8080/"
        },
        "id": "lDRG03Eo3Wtz",
        "outputId": "3647fd44-a47d-4bb4-cb9f-4d0d9f817ed3"
      },
      "execution_count": null,
      "outputs": [
        {
          "output_type": "stream",
          "name": "stdout",
          "text": [
            "esto ews una suma\n",
            "6.2831853\n"
          ]
        }
      ]
    },
    {
      "cell_type": "code",
      "source": [
        "print(\"esto es una resta\" )\n",
        "numero_uno=3.14159265\n",
        "numero_dos=3.141592651\n",
        "resultado = numero_uno - numero_dos\n",
        "print(resultado)"
      ],
      "metadata": {
        "colab": {
          "base_uri": "https://localhost:8080/"
        },
        "id": "aBI2v9Nk4Bpf",
        "outputId": "980e8c36-e74f-4033-a79e-20bb202133e5"
      },
      "execution_count": null,
      "outputs": [
        {
          "output_type": "stream",
          "name": "stdout",
          "text": [
            "esto es una resta\n",
            "-9.999996386511611e-10\n"
          ]
        }
      ]
    },
    {
      "cell_type": "code",
      "source": [
        "print(\"esto es una multiplicacion\")\n",
        "numero_uno=1231231231231231.88888\n",
        "numero_dos=3214672136478264723784623746782\n",
        "resultado = numero_uno * numero_dos\n",
        "print(resultado)\n"
      ],
      "metadata": {
        "colab": {
          "base_uri": "https://localhost:8080/"
        },
        "id": "7HPE81As4imu",
        "outputId": "c012cce5-46fb-4904-9cd4-672e4bbfd87d"
      },
      "execution_count": null,
      "outputs": [
        {
          "output_type": "stream",
          "name": "stdout",
          "text": [
            "esto es una multiplicacion\n",
            "3.958004732600869e+45\n"
          ]
        }
      ]
    },
    {
      "cell_type": "code",
      "execution_count": null,
      "metadata": {
        "colab": {
          "base_uri": "https://localhost:8080/"
        },
        "id": "cnzimF2WqRvk",
        "outputId": "e1ef819b-01ee-48b5-9a4b-59e4da4cac96"
      },
      "outputs": [
        {
          "output_type": "stream",
          "name": "stdout",
          "text": [
            "esto es una division\n",
            "0.3547361992018826\n"
          ]
        }
      ],
      "source": [
        "print(\"esto es una division\")\n",
        "numero_uno=72643721364782364876478623784672836478263874623784672346872364782364876238\n",
        "numero_dos=204782374982374897123984723894721837458934754809237491823748237482734896723\n",
        "resultado = numero_uno / numero_dos\n",
        "print(resultado)"
      ]
    },
    {
      "cell_type": "markdown",
      "source": [
        "#Ejercicio de tipos de datos simples\n",
        "\n"
      ],
      "metadata": {
        "id": "CdcmX3PLwLXD"
      }
    },
    {
      "cell_type": "markdown",
      "source": [
        "## Ejercicio 1\n",
        "\n",
        "Escribir un programa que pregunte el nombre del usuario en la consola y un numero entero e impreima por pantalla  en lineas distintas el nombre del usuario tantas veces como el numero introducido"
      ],
      "metadata": {
        "id": "pA3bwW8Cwb9S"
      }
    },
    {
      "cell_type": "code",
      "source": [
        "nombre = input(\"¿cómo te llamas?\")\n",
        "n = input(\"introduce un número entero: \")\n",
        "print((nombre + \"\\n\") *int(n))"
      ],
      "metadata": {
        "colab": {
          "base_uri": "https://localhost:8080/"
        },
        "id": "K-LTUfJexOKk",
        "outputId": "372b844d-8f72-49da-f8f6-2198101917c1"
      },
      "execution_count": null,
      "outputs": [
        {
          "output_type": "stream",
          "name": "stdout",
          "text": [
            "¿cómo te llamas?DAVID FONSECA\n",
            "introduce un número entero: 13\n",
            "DAVID FONSECA\n",
            "DAVID FONSECA\n",
            "DAVID FONSECA\n",
            "DAVID FONSECA\n",
            "DAVID FONSECA\n",
            "DAVID FONSECA\n",
            "DAVID FONSECA\n",
            "DAVID FONSECA\n",
            "DAVID FONSECA\n",
            "DAVID FONSECA\n",
            "DAVID FONSECA\n",
            "DAVID FONSECA\n",
            "DAVID FONSECA\n",
            "\n"
          ]
        }
      ]
    },
    {
      "cell_type": "markdown",
      "source": [
        "\n",
        "## EJERCICIO 2\n",
        "\n",
        "Escribir un programa que pida al usuario su peso (en KG) y estatura (en M),\n",
        "calcule el indice de masa corporal y lo almacene en una variable, e imprima por pantalla la frase 'tu indice de masa corporal es <imc>' donde  '<imc>' es el indice de masa corporal calculado redondeado con dos decimales \n"
      ],
      "metadata": {
        "id": "m3pQH6-C6VRn"
      }
    },
    {
      "cell_type": "code",
      "source": [
        "peso = input(\"¿cual es tu peso en KG?\")\n",
        "estatura = input(\"¿cual es tu estatura en M?\")\n",
        "imc = round(float(peso)/float(estatura)**2,2)\n",
        "print(\"tu indice de masa corporal es \" + str(imc))"
      ],
      "metadata": {
        "colab": {
          "base_uri": "https://localhost:8080/"
        },
        "id": "q_UG5BUw6X8J",
        "outputId": "88b617f7-ea00-4e84-dbde-93419f7111d5"
      },
      "execution_count": null,
      "outputs": [
        {
          "output_type": "stream",
          "name": "stdout",
          "text": [
            "¿cual es tu peso en KG?52.5\n",
            "¿cual es tu estatura en M?1.70\n",
            "tu indice de masa corporal es 18.17\n"
          ]
        }
      ]
    },
    {
      "cell_type": "markdown",
      "source": [
        "## **LÍBRERIAS EN PHYTON**\n",
        "# ¿Que es?:\n",
        "# #En este sentido, una librería es un conjunto de archivos que se utiliza para desarrollar software. Suele estar compuesta de código y datos, y su fin es ser utilizada por otros programas de forma totalmente autónoma. Simple y llanamente, es un archivo importable."
      ],
      "metadata": {
        "id": "_G5RGmCz2uJh"
      }
    }
  ]
}